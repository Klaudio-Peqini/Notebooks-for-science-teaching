{
 "cells": [
  {
   "cell_type": "markdown",
   "metadata": {},
   "source": [
    "# Menyra e punes\n",
    "\n",
    "Ekzekutoni qelizat SIPAS RRADHES dhe njera pas tjetres."
   ]
  },
  {
   "cell_type": "markdown",
   "metadata": {},
   "source": [
    "# Lekundesi suste i lire dhe ne prani te ferkimit"
   ]
  },
  {
   "cell_type": "markdown",
   "metadata": {},
   "source": [
    "Ne konsiderojme lekundesin suste te lire dhe ne prani te ferkimit.\n",
    "\n",
    "Nje pike materiale me mase $m$ lidhet me nje suste ideale pa mase dhe me konstante $k$, shmanget nga pozicioni i ekuilibrit me madhesine $x_0$. Objekti fillon levizjen me shpejtesi fillestare $v_0$. Pika materiale leviz ne mjedisin fluid me koeficient viskoziteti $\\eta$, nderohe qe koeficienti i ferkimit eshte $b_l= K\\eta$\n",
    "\n",
    "$$\\Omega_0=\\sqrt{k/m}$$\n",
    "\n",
    "$$T_0=2\\pi/\\Omega_0$$\n",
    "\n",
    "$$\\gamma=(b_l/2m)$$\n",
    "\n",
    "Ekuacioini diferencial i levizjes eshte:\n",
    "\n",
    "$$\\ddot x (t) + 2 \\gamma \\dot x(t) +\\Omega_0^2 x(t) = 0$$\n",
    "\n",
    "Ekuacioni karakteristik perkates eshte\n",
    "\n",
    "$$\\lambda^2+2\\gamma \\lambda+\\Omega_0^2=0$$\n",
    "\n",
    "ku percaktori eshte $\\Delta '=(\\gamma^2-\\Omega_0^2)$\n",
    "\n",
    "Nese $\\Delta ' \\neq 0$, zgjidhjet e ekucionit jane:\n",
    "\n",
    "$$\\lambda_1=-\\gamma +(\\Delta ')^{0.5}$$\n",
    "\n",
    "$$\\lambda_2=-\\gamma -(\\Delta ')^{0.5}$$\n",
    "\n",
    "Zgjidhjet e ekuacionit diferencial kane trajten\n",
    "\n",
    "$$x_c(t)=C_1 e^{\\lambda_1 t}+C_2 e^{\\lambda_2 t}$$\n",
    "\n",
    "Zevendesimi i kushteve fillestare sjell \n",
    "$$C_1=\\frac{\\lambda_2 x_0 - v_0}{\\lambda_2-\\lambda_1}$$\n",
    "\n",
    "$$C_2=\\frac{\\lambda_1 x_0 - v_0}{\\lambda_1-\\lambda_2}$$\n",
    "\n",
    "Kujdes! $\\lambda_1$ et $\\lambda_2$, $C_1$ dhe $C_2$ jane komplekse.\n",
    "\n",
    "Zgjidhja fizike eshte pjesa reale e $x_c$.\n",
    "\n",
    "Nese $\\Delta ' = 0$, zgjidhja eshte pjesa reale e\n",
    "\n",
    "$$x_c(t)=[x_0+(v_0+\\gamma x_0)t ]e^{-\\gamma t}$$\n",
    "\n"
   ]
  },
  {
   "cell_type": "code",
   "execution_count": null,
   "metadata": {},
   "outputs": [],
   "source": [
    "import numpy as np\n",
    "from cmath import *\n",
    "\n",
    "from bokeh.layouts import row, column\n",
    "from bokeh.models import CustomJS, Slider\n",
    "from bokeh.plotting import figure, show, ColumnDataSource\n",
    "\n",
    "from bokeh.io import push_notebook, show, output_notebook\n",
    "from ipywidgets import interact\n",
    "#from bokeh.resources import INLINE \n",
    "\n",
    "output_notebook()"
   ]
  },
  {
   "cell_type": "markdown",
   "metadata": {},
   "source": [
    "#### Perkufizimi i funksioneve te rendesishme"
   ]
  },
  {
   "cell_type": "code",
   "execution_count": null,
   "metadata": {},
   "outputs": [],
   "source": [
    "def omega0(k,m):\n",
    "    oz=np.sqrt(k/m)\n",
    "    return oz\n",
    "\n",
    "def gamma(bl,m):\n",
    "    ga=bl/(2*m)\n",
    "    return ga\n",
    "\n",
    "def fac_qual(k,m,bl):\n",
    "    fq = np.sqrt(k*m)/bl\n",
    "    return fq\n",
    "\n",
    "def deltaprime(k,m,bl):\n",
    "    dp=gamma(bl,m)**2-omega0(k,m)**2+0j\n",
    "    return dp\n",
    "\n",
    "def osciamo(k,m,bl,xzero,vzero,t):\n",
    "    if (deltaprime(k,m,bl)!=0):\n",
    "        gamma1=-gamma(bl,m)+deltaprime(k,m,bl)**(1/2)\n",
    "        gamma2=-gamma(bl,m)-deltaprime(k,m,bl)**(1/2)\n",
    "        C1=(gamma2*xzero-vzero)/(gamma2-gamma1)\n",
    "        C2=(gamma1*xzero-vzero)/(gamma1-gamma2)\n",
    "        solc=C1*np.exp(gamma1*t)+C2*np.exp(gamma2*t)\n",
    "        sol=solc.real\n",
    "    else:\n",
    "        sol=(xzero+(vzero+gamma(bl,m)*xzero)*t)*np.exp(-gamma(bl,m)*t)\n",
    "    return sol    \n",
    "    "
   ]
  },
  {
   "cell_type": "markdown",
   "metadata": {},
   "source": [
    "#### Percaktimi detajeve te figures"
   ]
  },
  {
   "cell_type": "code",
   "execution_count": null,
   "metadata": {},
   "outputs": [],
   "source": [
    "p = figure(width=800, height=400)\n",
    "\n",
    "# Vlerat fillestare\n",
    "k=50\n",
    "m=5\n",
    "bl=0\n",
    "xzero=1\n",
    "vzero=0\n",
    "\n",
    "t = np.linspace(0,40,1000)\n",
    "x1 = osciamo(k,m,bl,xzero,vzero,t)\n",
    "expga = np.exp(-gamma(bl,m)*t)\n",
    "\n",
    "pos = p.line(t,x1,line_width=3,legend_label=\"position\")\n",
    "ga = p.line(t,expga,color=\"orange\",line_width=2,legend_label=\"exp(-gamma*t)\")\n",
    "\n",
    "p.legend.location = \"top_right\"\n",
    "p.legend.click_policy=\"hide\"\n",
    "\n",
    "\n",
    "def update(m=5, k = 50, bl = 0): #, xzero= 1 , vzero = 0):\n",
    "    pos.data_source.data['y'] = osciamo(k,m,bl,xzero,vzero,t)\n",
    "    ga.data_source.data['y'] = np.exp(-gamma(bl,m)*t)\n",
    "    push_notebook()\n",
    "    print('Omega_0 = {:0.2f}[rad/s]'.format(omega0(k,m)),\",  gamma = \", gamma(bl,m)) \n",
    "    dp =  deltaprime(k,m,bl)**0.5\n",
    "    dpr = dp.real\n",
    "    dpi = dp.imag\n",
    "    print('-')\n",
    "    print('Partie réelle de racine de delta prime {:0.2f}[rad/s]'.format(dpr))\n",
    "    print('-')\n",
    "    print('Partie imaginaire de racine de delta prime {:0.2f}[rad/s]'.format(dpi))\n"
   ]
  },
  {
   "cell_type": "markdown",
   "metadata": {},
   "source": [
    "## Let's Play!\n",
    "\n",
    "Kjo figure paraqet evolucionin kohor te $x(t)$. Aty paraqitet gjithashtu dhe mbeshtjella eksponenciale e lekundjeve qe shuhen $e^{-\\gamma t}$\n",
    "\n",
    "Cfare vrojtojme kur ndryshojme tre parametrat $m$, $k$ dhe $b_l$ ?\n",
    "\n",
    "Studioni si varion $\\Omega_0$ ne lidhje me $\\gamma$, dhe cfare perfaqesojne pjesa reale dhe ajo imagjinare e determinantit $\\Delta'$"
   ]
  },
  {
   "cell_type": "code",
   "execution_count": null,
   "metadata": {},
   "outputs": [],
   "source": [
    "show(p, notebook_handle=True)\n",
    "interact(update, m = (1,10,1), k = (1,50,1), bl = (0,200,1));"
   ]
  },
  {
   "cell_type": "markdown",
   "metadata": {},
   "source": [
    "# Lekundjet e detyruara"
   ]
  },
  {
   "cell_type": "markdown",
   "metadata": {},
   "source": [
    "Ne vijim perdorim te njejtat shenime, por kete here lavjerresi eshte nen veprimin e nje force te jashtme $F_0 \\cos (\\omega_e t)$\n",
    "\n",
    "Kjo force e jashtme eshte e perftuar nga zhvendosja sinusoidale e nje membrane me amplitude $x_{e,0}$. Per rrjedhoje, amplituda e forces se jashtme eshte $F_0=k x_{e,0}$ dhe zhvendsja prej kesaj force do te jete\n",
    "\n",
    "$$\\frac{F_0}{k}\\cos(\\omega_e t)$$\n",
    "\n",
    "Ekuacioni diferencial i levizjes shkruhet\n",
    "\n",
    "$$\\ddot x (t) + 2 \\gamma \\dot x(t) +\\Omega_0^2 x(t) = (F_0/m) \\cos (\\omega_e t)$$\n",
    "\n",
    "Duke perdorur shenimin kompleks me $f=F_0/m$\n",
    "\n",
    "$$\\ddot x (t) + 2 \\gamma \\dot x(t) +\\Omega_0^2 x(t) = f e^{i\\omega_e t}$$\n",
    "\n",
    "Zgjidhja e vecante e ekuacionit diferencial eshte $x_{1,c}(t)= \\chi_0 e^{i\\omega_e t}$ avec $\\chi_0=A e^{i \\varphi}$. $A(\\omega_e)$ eshte amplituda dhe $\\varphi(\\omega_e)$ eshte faza.\n",
    "\n",
    "$$\\chi_0 = \\frac{f}{-(\\omega_e^2-\\Omega_0^2)+i(2\\gamma\\omega_e)}$$\n",
    "\n",
    "Zgjidhja e pergjithshme eshte shuma e zgjidhjes se vecante me zgjidhjen e pergjithshme te ekuacionit te lekundjeve te lira ne paragrafin e mesiperm ($x_{2,c}(t)$).\n",
    "\n",
    "Konstantet e integrimit $C_1$ dhe $C_2$ percaktohen sipas kushteve $x_{c}(t)=x_{1,c}(t)+x_{2,c}(t)$"
   ]
  },
  {
   "cell_type": "markdown",
   "metadata": {},
   "source": [
    "#### Perkufizimi i funksioneve"
   ]
  },
  {
   "cell_type": "code",
   "execution_count": null,
   "metadata": {},
   "outputs": [],
   "source": [
    "#amplitude de l'excitation\n",
    "def exci(omegae,k,f,t):\n",
    "    ex=(f/k*m)*np.cos(omegae*t)\n",
    "    return ex\n",
    "\n",
    "def chizero(omegae,k,m,bl,f):\n",
    "    chizero=f/complex((omega0(k,m)**2-omegae**2),(2*gamma(bl,m)*omegae))\n",
    "    return chizero\n",
    "\n",
    "#Fonctions pour calculer les amplitudes et déphasages pour une série de pulsation d'escitation\n",
    "# L'amplitude est divisée par f*m/m afin de la normaliser à l'amplitude d'excitation\n",
    "def amplitudes(k,m,bl,f,omegae_v):\n",
    "    amp=[]\n",
    "    for i in omegae_v:\n",
    "        amp.append(abs(chizero(i,k,m,bl,f))*(k/(f*m)))\n",
    "    return amp\n",
    "\n",
    "def dephasages(k,m,bl,f,omegae_v):\n",
    "    deph=[]\n",
    "    for i in omegae_v:\n",
    "        deph.append(phase(chizero(i,k,m,bl,f)))\n",
    "    return deph\n",
    "\n",
    "#x1(t) complexe\n",
    "def regpermc(omegae,k,m,bl,f,t):\n",
    "    rp=chizero(omegae,k,m,bl,f)*complex(np.cos(omegae*t),np.sin(omegae*t))\n",
    "    return rp\n",
    "\n",
    "#x2(t) complexe, avec C1 et C2 déterminés grace à x0 et v0\n",
    "def xdeuxdetc(omegae,k,m,bl,f,xzero,vzero,t):\n",
    "    if (deltaprime(k,m,bl)!=0):\n",
    "        gamma1=-gamma(bl,m)+deltaprime(k,m,bl)**(1/2)\n",
    "        gamma2=-gamma(bl,m)-deltaprime(k,m,bl)**(1/2)\n",
    "        C1=(gamma2*xzero-vzero-gamma2*chizero(omegae,k,m,bl,f)+(0+1j)*chizero(omegae,k,m,bl,f)*omegae)/(gamma2-gamma1)\n",
    "        C2=(gamma1*xzero-vzero-gamma1*chizero(omegae,k,m,bl,f)+(0+1j)*chizero(omegae,k,m,bl,f)*omegae)/(gamma1-gamma2)\n",
    "        sol=C1*np.exp(gamma1*t)+C2*np.exp(gamma2*t)\n",
    "    else:\n",
    "        A=xzero-chizero(omegae,k,m,bl,f)\n",
    "        B=vzero+gamma(bl,m)*xzero-gamma(bl,m)*chizero(omegae,k,m,bl,f)-(0+1j)*chizero(omegae,k,m,bl,f)*omegae\n",
    "        sol=(A+B*t)*np.exp(-gamma(bl,m)*t)\n",
    "    return sol    \n",
    "    \n"
   ]
  },
  {
   "cell_type": "markdown",
   "metadata": {},
   "source": [
    "#### Ndertimi i figures"
   ]
  },
  {
   "cell_type": "code",
   "execution_count": null,
   "metadata": {},
   "outputs": [],
   "source": [
    "p2 = figure(width=950, height=400,y_range=(-1, 1))\n",
    "\n",
    "# Vlerat fillestare (lavjerresi ne ajer, uje dhe vaj)\n",
    "# mjedisi (k,m,bl,f,xzero,vzero)\n",
    "\n",
    "air = (15,0.19,0.02,1,0,0)\n",
    "fluide1 = (15,0.19,0.05,1,0,0)\n",
    "eau = (15,0.19,0.3,1,0,0)\n",
    "huile = (15,0.19,1.5,1,0,0)\n",
    "\n",
    "choix = eau\n",
    "k = choix[0]\n",
    "m = choix[1]\n",
    "bl = choix[2]\n",
    "f = choix[3]\n",
    "xzero = choix[4]\n",
    "vzero = choix[5]\n",
    "omegae = 7.1 # Ngacmimi\n",
    "tmin = 0\n",
    "tmax = 1000\n",
    "\n",
    "t2 = np.linspace(0,50,1000)\n",
    "omegae_v1 = np.linspace(5,15,2000)\n",
    "\n",
    "def permreal(omegae,k,m,bl,f,t):\n",
    "    pr=[]\n",
    "    for i in t:\n",
    "        pr.append(regpermc(omegae,k,m,bl,f,i).real)\n",
    "    pr=np.array(pr)\n",
    "    return pr\n",
    "\n",
    "def x2real(omegae,k,m,bl,f,xzero,vzero,t):\n",
    "    x2r=[]\n",
    "    for i in t:\n",
    "        x2r.append(xdeuxdetc(omegae,k,m,bl,f,xzero,vzero,i).real)\n",
    "    x2r=np.array(x2r)\n",
    "    return x2r\n",
    "\n",
    "\n",
    "excitation = p2.line(t2,exci(omegae,k,f,t2),line_width=3 ,alpha=0.7, legend_label=\"excitation\")\n",
    "amorti = p2.line(t2,x2real(omegae,k,m,bl,f,xzero,vzero,t2),color=\"green\",alpha=0.7,line_width=3,legend_label=\"x2 : solution générale de l'équation SSM\")\n",
    "total = p2.line(t2,permreal(omegae,k,m,bl,f,t2)+x2real(omegae,k,m,bl,f,xzero,vzero,t2),color=\"red\",alpha=0.7,line_width=3,legend_label=\"solution totale\")\n",
    "permanent = p2.line(t2,permreal(omegae,k,m,bl,f,t2),color=\"black\",line_width=1,legend_label=\"x1 : régime permanent\")\n",
    "\n",
    "p2.legend.location = \"top_right\"\n",
    "p2.legend.click_policy=\"hide\"\n",
    "p2.xaxis.axis_label=\"temps[s]\"\n",
    "\n",
    "dp = figure(width=400, height=300)\n",
    "deph=dp.line(omegae_v1,dephasages(k,m,bl,f,omegae_v1),line_width=3)\n",
    "\n",
    "dp.xaxis.axis_label=\"omega excitation[rad/s]\"\n",
    "dp.yaxis.axis_label=\"déphasage[rad]\"\n",
    "\n",
    "\n",
    "deph_vx=np.array([omegae])\n",
    "deph_vy=np.array([phase(chizero(omegae,k,m,bl,f))])\n",
    "deph_v=dp.circle(deph_vx,deph_vy,color=\"red\",size=8)\n",
    "\n",
    "ap = figure(width=400, height=300)\n",
    "amp=ap.line(omegae_v1,amplitudes(k,m,bl,f,omegae_v1),line_width=3)\n",
    "\n",
    "ap.xaxis.axis_label=\"omega excitation[rad/s]\"\n",
    "ap.yaxis.axis_label=\"Amplitude relative\"\n",
    "\n",
    "\n",
    "amp_vx = np.array([omegae])\n",
    "amp_vy = np.array([abs(chizero(omegae,k,m,bl,f))*(k/(f*m))])\n",
    "amp_v = ap.circle(amp_vx,amp_vy,color=\"red\",size=8)\n",
    "\n",
    "def update2(milieu, omegae=8.3): #, xzero= 1 , vzero = 0):\n",
    "    if milieu==\"eau\": choix = eau\n",
    "    if milieu==\"air\": choix=air\n",
    "    if milieu==\"huile\": choix=huile\n",
    "    if milieu==\"fluide1\": choix=fluide1\n",
    "    k = choix[0]\n",
    "    m = choix[1]\n",
    "    bl = choix[2]\n",
    "    f = choix[3]\n",
    "    xzero = choix[4]\n",
    "    vzero = choix[5]\n",
    "    excitation.data_source.data['y'] = exci(omegae,k,f,t2)\n",
    "    permanent.data_source.data['y'] = permreal(omegae,k,m,bl,f,t2)\n",
    "    amorti.data_source.data['y'] = x2real(omegae,k,m,bl,f,xzero,vzero,t2)\n",
    "    total.data_source.data['y'] = permreal(omegae,k,m,bl,f,t2)+x2real(omegae,k,m,bl,f,xzero,vzero,t2)\n",
    "    deph.data_source.data['y'] = dephasages(k,m,bl,f,omegae_v1)\n",
    "    amp.data_source.data['y'] = amplitudes(k,m,bl,f,omegae_v1)\n",
    "    deph_v.data_source.data['x'] = np.array([omegae])\n",
    "    deph_v.data_source.data['y'] = np.array([phase(chizero(omegae,k,m,bl,f))])\n",
    "    amp_v.data_source.data['x'] = np.array([omegae])\n",
    "    amp_v.data_source.data['y'] = np.array([abs(chizero(omegae,k,m,bl,f))*k/(f*m)])\n",
    "\n",
    "    push_notebook()\n"
   ]
  },
  {
   "cell_type": "markdown",
   "metadata": {},
   "source": [
    "## Let's play !\n",
    "\n",
    "Ne zgjedhim kater mjedise te ndryshem: ajer, uje, vaj viskoz dhe nje leng me viskozitet te ndermjetem midis ujit dhe vajit.\n",
    "\n",
    "Figura paraqet pozicionin e lavjerresit ne funksion te kohes duke pasur parasysh kater kontribute, si vijon:\n",
    "\n",
    "1- forca lekundese e prodhuar nga mekanizmi qe ve ne levizje masen; \n",
    "\n",
    "2- zgjidhja e vecante e ekuacionit diferencial;\n",
    "\n",
    "3- zgjidhja e pergjithshme e ekuacionit homogjen perkates;\n",
    "\n",
    "4- zgjidhja e pergjithshme qe paraqet regjimin tranzitor dhe vendosjen e regjimit stacionar.\n",
    "\n",
    "Ne mund te variojme parametrat e forcesdetyruese. Butonat ne te djathte mundesojne zmadhimin dhe zhvendosjen neper grafik.\n",
    "\n",
    "Dy kurbat ne vijim paraqesin fazen dghe amplituden relative."
   ]
  },
  {
   "cell_type": "code",
   "execution_count": null,
   "metadata": {},
   "outputs": [],
   "source": [
    "show(column(p2,row(dp,ap)), notebook_handle=True)\n",
    "interact(update2, omegae = (5,15,.1),milieu=[\"eau\",\"air\",\"huile\",\"fluide1\"]);"
   ]
  },
  {
   "cell_type": "markdown",
   "metadata": {},
   "source": [
    "# Kurbat e fazes dhe amplitudes\n",
    "\n",
    "Ketu ne mund te ndryshojme masen, konstanten e sustes, koeficientin e ferkimit dhe te shohim se cfare efekti kane keto ndryshime te kurba e fazes dhe amplitudes relative."
   ]
  },
  {
   "cell_type": "code",
   "execution_count": null,
   "metadata": {},
   "outputs": [],
   "source": [
    "# Funksioni kthen frekuencen e rezonances, nese ekziston; perndryshe kthen -1\n",
    "def omegares(k,m,bl):\n",
    "    orsq=(omega0(k,m))**2-2*(gamma(bl,m))**2\n",
    "    if orsq > 0 : omegares = np.sqrt(orsq)\n",
    "    else : omegares= -1\n",
    "    return omegares   \n",
    "\n",
    "# Funksioni kthen amplituden, nese ajo ekziston\n",
    "def ampres(k,m,bl,f):\n",
    "    ores=omegares(k,m,bl)\n",
    "    if ores >=0 : ampres = abs(chizero(ores,k,m,bl,f))*(k/(f*m))\n",
    "    else : ampres = -1\n",
    "    return ampres\n"
   ]
  },
  {
   "cell_type": "code",
   "execution_count": null,
   "metadata": {},
   "outputs": [],
   "source": [
    "dp2 = figure(width=450, height=350)\n",
    "ap2 = figure(width=450, height=350)\n",
    "\n",
    "\n",
    "# Vlerat fillestare\n",
    "k=10\n",
    "m=.1\n",
    "bl=1\n",
    "f=1\n",
    "\n",
    "\n",
    "omegae_v2 = np.linspace(0.01,20,2000)\n",
    "\n",
    "deph2 = dp2.line(omegae_v2,dephasages(k,m,bl,f,omegae_v2),line_width=3)\n",
    "\n",
    "amp2 = ap2.line(omegae_v2,amplitudes(k,m,bl,f,omegae_v2),line_width=3)\n",
    "\n",
    "resonnancex=np.array([omegares(k,m,bl),omegares(k,m,bl)])\n",
    "resonnancey=np.array([0,ampres(k,m,bl,f)])\n",
    "\n",
    "dp2.xaxis.axis_label=\"pulsation d'excitation[rad/s]\"\n",
    "dp2.yaxis.axis_label=\"déphasage[rad]\"\n",
    "ap2.xaxis.axis_label=\"pulsation d'excitation[rad/s]\"\n",
    "ap2.yaxis.axis_label=\"amplitude relative\"\n",
    "\n",
    "ores = ap2.line(resonnancex,resonnancey, color='black')\n",
    "\n",
    "def update3(k=10, m=.1,bl=1): # f=1\n",
    "    deph2.data_source.data['y'] = dephasages(k,m,bl,f,omegae_v2)\n",
    "    amp2.data_source.data['y'] = amplitudes(k,m,bl,f,omegae_v2)\n",
    "    if (omegares(k,m,bl) > 0 and bl>0):\n",
    "        ores.data_source.data['x'] = np.array([omegares(k,m,bl),omegares(k,m,bl)])\n",
    "        ores.data_source.data['y'] = np.array([0,ampres(k,m,bl,f)])\n",
    "    else  :\n",
    "        ores.data_source.data['x'] = np.array([0,0])  \n",
    "        ores.data_source.data['y'] = np.array([0,0])\n",
    "    \n",
    "    if omegares(k,m,bl) >=0 : \n",
    "        print(' omega_resonnance = {:0.2f}[rad/s]'.format(omegares(k,m,bl)))\n",
    "    else : print(\"Pas de résonnance\")   \n",
    "    if bl > 0 : print('facteur de qualité, Q = {:0.2f}'.format(fac_qual(k,m,bl)))\n",
    "    else : print('le facteur de qualité Q est infini')    \n",
    "    push_notebook()\n",
    "    \n",
    "\n"
   ]
  },
  {
   "cell_type": "markdown",
   "metadata": {},
   "source": [
    "## Let's play !\n",
    "\n",
    "Vereni cilesine e rezonances ne funksion te parametrave perkates."
   ]
  },
  {
   "cell_type": "code",
   "execution_count": null,
   "metadata": {},
   "outputs": [],
   "source": [
    "show(row(dp2,ap2), notebook_handle=True)\n",
    "interact(update3,k=(1,50,1),m=(.1,1,.1),bl=(0,10,.1));"
   ]
  },
  {
   "cell_type": "markdown",
   "metadata": {},
   "source": [
    "## Amplituda si funksion i frekuences se reduktuar\n",
    "\n",
    "Ne kete paragraf ndertohet grafiku i amplitudes ne funksion te frekuences se reduktuar $\\omega_e/\\Omega_0=X$ dhe faktorit te cilesise $Q$:\n",
    "\n",
    "$$A(\\omega_e)/A(0)=\\frac{Q}{\\sqrt{Q^2(X^2-1)^2+X^2}}$$\n",
    "\n",
    "Rezonanca verehet per $X_\\text{res}=\\sqrt{1-Q^2/2}$"
   ]
  },
  {
   "cell_type": "code",
   "execution_count": null,
   "metadata": {},
   "outputs": [],
   "source": [
    "def AmpQual(Q,X):\n",
    "    aq = Q/np.sqrt(Q**2*(X**2-1)**2+X**2)\n",
    "    return aq\n",
    "\n",
    "ap3 = figure(width=700, height=350)\n",
    "\n",
    "# Vlera fillestare\n",
    "Qual=1\n",
    "\n",
    "Xtab = np.linspace(0.01,3,500)\n",
    "\n",
    "amp3 = ap3.line(Xtab,AmpQual(Qual,Xtab),line_width=3)\n",
    "\n",
    "ap3.xaxis.axis_label=\"pulsation réduite\"\n",
    "ap3.yaxis.axis_label=\"Amplitude relative\"\n",
    "\n",
    "def update4(Qual=1): #\n",
    "    amp3.data_source.data['y'] = AmpQual(Qual,Xtab)\n",
    "    Xressquared=1-1/(2*Qual**2)\n",
    "    if Xressquared >= 0 : print('X_resonnance = {:0.3f}'.format(np.sqrt(Xressquared)))\n",
    "    else : print('Pas de résonnance')\n",
    "    push_notebook()\n",
    "    \n"
   ]
  },
  {
   "cell_type": "markdown",
   "metadata": {},
   "source": [
    "## Let's play\n",
    "\n",
    "Faktori i vetem te cilin ne mund ta ndryshojme eshte ai i cilesise. Shikoni ku ndodh rezonanca ne raport me $X=1$."
   ]
  },
  {
   "cell_type": "code",
   "execution_count": null,
   "metadata": {},
   "outputs": [],
   "source": [
    "show(ap3, notebook_handle=True)\n",
    "interact(update4,Qual=(0.1,50,0.1));"
   ]
  },
  {
   "cell_type": "markdown",
   "metadata": {},
   "source": [
    "Mendoni rreth disa arsyeve praktike perse mjaft rezonatore punojne deri me ne nje faktor cilesie 50. Nderkohe eshte e mundur te ndertohen mikrorezonatore ne laboratore kerkimore te cilet punojne me faktore cilesie qe tejkalojne $10^7$."
   ]
  },
  {
   "cell_type": "code",
   "execution_count": null,
   "metadata": {},
   "outputs": [],
   "source": []
  },
  {
   "cell_type": "markdown",
   "metadata": {},
   "source": [
    "## Pune tipike Laboratori\n",
    "\n",
    "Ne vijim mund te shohim nje pune laboratori tipike!"
   ]
  },
  {
   "cell_type": "markdown",
   "metadata": {},
   "source": [
    "## Hyrje teorike\n",
    "\n",
    "Ne kete pune laboratori analizojme varesine ndermjet intensitetit te rrymes elektrike $I$ qe rrjedh permes nje rezistence $R$ me diferencen potenciale $U$ ne skajet e se njejtes rezistence. Varesia teorike, ne perputhje me ligjin e Omit eshte:\n",
    "\n",
    "$$ I = \\frac{U}{R} .$$\n",
    "\n",
    "Ketu mund te futen produktet e simulimeve, figura apo video nga mediume te ndryshme, etj.\n"
   ]
  },
  {
   "cell_type": "markdown",
   "metadata": {},
   "source": [
    "## Eksperimenti\n",
    "\n",
    "Varesia eksperimentale do te jete:\n",
    "\n",
    "$$ I = \\frac{U}{R} + I_0 \\rightarrow I = aU + b. $$\n",
    "\n",
    "Ne vijim mund te paraqiten elementet e nevojshme te teorise se gabimit, te ndertohen tabelat qe do te plotesohen gjate matjeve, etj."
   ]
  },
  {
   "cell_type": "markdown",
   "metadata": {},
   "source": [
    "## Perpunimi i te dhenave"
   ]
  },
  {
   "cell_type": "code",
   "execution_count": 35,
   "metadata": {},
   "outputs": [],
   "source": [
    "import numpy as np\n",
    "import matplotlib.pyplot as plt\n",
    "import scipy.special as sp\n",
    "from scipy.optimize import curve_fit"
   ]
  },
  {
   "cell_type": "code",
   "execution_count": 50,
   "metadata": {},
   "outputs": [],
   "source": [
    "# Perkufizimi i funksioneve ndihmese\n",
    "def f(x,a,b):\n",
    "    return a * x + b\n",
    "\n",
    "def fitting_I_U(data, string):\n",
    "    x = data[:,0] - np.mean(data)\n",
    "    x_err = data[:,1]\n",
    "    y = data[:,2]\n",
    "    y_err = data[:,3]\n",
    "    results = []\n",
    "\n",
    "    popt, pcov = curve_fit(f, x, y, sigma=y_err)\n",
    "    \n",
    "    # Calculate auxiliary quantities\n",
    "    Sx = np.sum(x)\n",
    "    Sy = np.sum(y)\n",
    "    Sxx = np.sum(x ** 2)\n",
    "    Syy = np.sum(y ** 2)\n",
    "    Sxy = np.sum(np.multiply(x,y))\n",
    "    n = np.size(x)\n",
    "    t_5 = 1.0543\n",
    "     \n",
    "    # Calculate errors\n",
    "    S_eps_2 = (n * Syy - Sy ** 2 - (popt[0] ** 2) * (n * Sxx - Sx ** 2))\n",
    "    S_b = np.sqrt((n * S_eps_2)/(n * Sxx - Sx ** 2))\n",
    "    sigma_b = S_b*t_5\n",
    "    S_a = S_b * np.sqrt(Sxx/n)\n",
    "    sigma_a = S_a * t_5\n",
    "    \n",
    "    # Calculate R^2\n",
    "    r = (Sxy/n - Sx * Sy/n ** 2)/np.sqrt((Sxx/n - (Sx/n) ** 2) * (Syy/n - (Sy/n) ** 2))\n",
    "    \n",
    "    lst = [popt[0], np.sqrt(pcov[0,0]), popt[1], np.sqrt(pcov[1,1]), r]\n",
    "    results.append(lst)        \n",
    "    res = np.array(results).reshape((1,5))\n",
    "\n",
    "    # Plotting results\n",
    "    plt.rc('font', size=14)\n",
    "    plt.plot(x+np.mean(x), y, 'o', color='k') # Time series\n",
    "    plt.plot(x+np.mean(x), f(x, *popt), '-', color='r', label=f'calibration factor = {np.round(lst[0],2)} (t - 4.5) + {np.round(lst[2],2)}' ) # The trend\n",
    "    plt.errorbar(x+np.mean(x), y, xerr = x_err, yerr = y_err, color='k', fmt='none') # Error bars for the x axis\n",
    "    # plt.fill_between(x, f(x, *popt) - y_err1, f(x, *popt) + y_err1, color = 'r', alpha=0.2, label = '67 % Confidence Interval for block ' + string)\n",
    "    Sheffe_band(x+np.mean(x), y, string)  \n",
    "    \n",
    "    plt.xlabel('Diferenca potenciale U (V)', fontsize = 22, loc = 'right')\n",
    "    plt.ylabel('Intensiteti i rrymes I (A)', fontsize = 22, loc = 'top')\n",
    "    plt.title('Ligji i Omit pre nje pjese homogjene te qarkut', fontsize = 26, fontweight = 'bold', loc = 'left')\n",
    "    plt.grid()\n",
    "    plt.gcf().set_size_inches(14, 10)\n",
    "    plt.legend(loc='upper left')\n",
    "    plt.xlim([np.min(x+np.mean(x))-0.5,np.max(x+np.mean(x))+0.5])\n",
    "    plt.ylim([np.min(y)-1.0,np.max(y)+1.0])\n",
    "    plt.text(5, 1, '$\\sigma_{cf}^2 \\cdot 10^4$ = ' + f'{10000 * np.round(pcov[0,0],5)}' + '$(t - 4.5)^2 +$' + f' {20000 * np.round(np.abs(pcov[0,1]),5)}' + '$(t - 4.5)$' + f' + {10000 * np.round(pcov[1,1],5)}', fontsize = 'x-large')\n",
    "    return res, pcov\n",
    "\n",
    "def Sheffe_band(x,y, string):\n",
    "    XV = x #np.array([1.15, 1.67, 2.05, 2.49, 2.99, 3.33, 3.81])\n",
    "    n = np.size(XV)\n",
    "    \n",
    "    ## Design matrix\n",
    "    X = np.ones((n,2))\n",
    "    X[:,1] = XV\n",
    "    \n",
    "    ## Observed response values\n",
    "    Y = y\n",
    "    \n",
    "    # Get the coefficient estimates\n",
    "    u,s,vt = np.linalg.svd(X,0)\n",
    "    v = np.transpose(vt)\n",
    "    bhat = np.dot(v, np.dot(np.transpose(u), Y)/s)\n",
    "    \n",
    "    # The fitted values\n",
    "    Yhat = np.dot(X, bhat)\n",
    "    \n",
    "    # The MSE and RMSE\n",
    "    MSE = ((Y-Yhat)**2).sum()/(n-X.shape[1])\n",
    "    s = np.sqrt(MSE)\n",
    "    \n",
    "    # These multipliers are used in constructing the intervals\n",
    "    XtX = np.dot(np.transpose(X), X)\n",
    "    V = [np.dot(X[i,:], np.linalg.solve(XtX, X[i,:])) for i in range(n)]\n",
    "    V = np.array(V)\n",
    "    \n",
    "    # The F quantile used in constructing the Scheffe interval\n",
    "    QF = sp.fdtri(X.shape[1], n-X.shape[1], 0.95)\n",
    "    QF_2 = sp.fdtri(X.shape[1], n-X.shape[1], 0.68)\n",
    "    \n",
    "    # The lower and upper bounds of the Scheffe band\n",
    "    D = s*np.sqrt(X.shape[1]*QF*V)\n",
    "    LB,UB = Yhat-D,Yhat+D\n",
    "    D_2 = s*np.sqrt(X.shape[1]*QF_2*V)\n",
    "    LB_2,UB_2 = Yhat-D_2,Yhat+D_2\n",
    "    \n",
    "    # Complete the plot\n",
    "    plt.fill_between(XV, LB_2, UB_2, where = UB_2 >= LB_2, facecolor='blue', alpha=0.2, label = '68 % Confidence Interval', zorder = 0)\n",
    "    plt.plot(XV, LB_2, '-', color='blue', zorder=1)\n",
    "    plt.plot(XV, UB_2, '-', color='blue', zorder=1)"
   ]
  },
  {
   "cell_type": "markdown",
   "metadata": {},
   "source": [
    "#### Te dhenat eksperimentale"
   ]
  },
  {
   "cell_type": "code",
   "execution_count": 33,
   "metadata": {},
   "outputs": [],
   "source": [
    "x = np.array([1, 2, 3, 4, 5, 6, 7, 8, 9])\n",
    "x = x.reshape((np.size(x),1))\n",
    "x_err = np.array([0.1, 0.15, 0.1, 0.1, 0.15, 0.1, 0.15, 0.15, 0.1])\n",
    "x_err = x_err.reshape((np.size(x_err),1))\n",
    "y = np.array([0.55, 1.03, 1.57, 1.94, 2.43, 3.02, 3.42, 4.10, 4.55])\n",
    "y = y.reshape((np.size(y),1))\n",
    "y_err = np.array([0.07, 0.15, 0.09, 0.10, 0.12, 0.06, 0.11, 0.17, 0.13])\n",
    "y_err = y_err.reshape((np.size(y_err),1))\n",
    "Data = np.concatenate((x,x_err,y,y_err),axis=1)"
   ]
  },
  {
   "cell_type": "markdown",
   "metadata": {},
   "source": [
    "#### Percaktimi i koeficienteve te varesise lineare"
   ]
  },
  {
   "cell_type": "code",
   "execution_count": 51,
   "metadata": {},
   "outputs": [
    {
     "data": {
      "image/png": "[encoded data removed]",
      "text/plain": [
       "<Figure size 1400x1000 with 1 Axes>"
      ]
     },
     "metadata": {},
     "output_type": "display_data"
    }
   ],
   "source": [
    "res, pcov = fitting_I_U(Data,'Ohm')\n"
   ]
  },
  {
   "cell_type": "code",
   "execution_count": null,
   "metadata": {},
   "outputs": [],
   "source": []
  }
 ],
 "metadata": {
  "hide_input": false,
  "kernelspec": {
   "display_name": "Python 3 (ipykernel)",
   "language": "python",
   "name": "python3"
  },
  "language_info": {
   "codemirror_mode": {
    "name": "ipython",
    "version": 3
   },
   "file_extension": ".py",
   "mimetype": "text/x-python",
   "name": "python",
   "nbconvert_exporter": "python",
   "pygments_lexer": "ipython3",
   "version": "3.11.6"
  }
 },
 "nbformat": 4,
 "nbformat_minor": 4
}
